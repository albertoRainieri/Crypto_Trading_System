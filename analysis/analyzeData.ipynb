{
 "cells": [
  {
   "cell_type": "code",
   "execution_count": null,
   "id": "2a483bea",
   "metadata": {},
   "outputs": [],
   "source": [
    "import json\n",
    "\n",
    "f = open ('./json/data.json', \"r\")\n",
    "data = json.loads(f.read())\n",
    "\n",
    "print(list(data['data'].keys()))"
   ]
  },
  {
   "cell_type": "code",
   "execution_count": null,
   "id": "6ad892b8",
   "metadata": {},
   "outputs": [],
   "source": [
    "data['data']['BTCUSDT'][-1]['_id']"
   ]
  },
  {
   "cell_type": "code",
   "execution_count": null,
   "id": "0db7a3b7",
   "metadata": {},
   "outputs": [],
   "source": []
  }
 ],
 "metadata": {
  "kernelspec": {
   "display_name": "Python 3 (ipykernel)",
   "language": "python",
   "name": "python3"
  },
  "language_info": {
   "codemirror_mode": {
    "name": "ipython",
    "version": 3
   },
   "file_extension": ".py",
   "mimetype": "text/x-python",
   "name": "python",
   "nbconvert_exporter": "python",
   "pygments_lexer": "ipython3",
   "version": "3.10.6"
  }
 },
 "nbformat": 4,
 "nbformat_minor": 5
}

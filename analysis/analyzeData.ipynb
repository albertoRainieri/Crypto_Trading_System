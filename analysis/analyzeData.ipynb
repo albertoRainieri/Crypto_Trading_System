{
 "cells": [
  {
   "cell_type": "code",
   "execution_count": 1,
   "id": "f4b3ca34",
   "metadata": {},
   "outputs": [
    {
     "name": "stdout",
     "output_type": "stream",
     "text": [
      "['UTKUSDT', 'AGIXUSDT', 'DOGEUSDT', 'ANKRUSDT', 'QNTUSDT', 'ALGOUSDT', 'MANAUSDT', 'SHIBUSDT', 'YFIIUSDT', 'IOTAUSDT', 'CHRUSDT', 'BATUSDT', 'OGUSDT', 'ONTUSDT', 'DARUSDT', 'BELUSDT', 'SLPUSDT', 'HBARUSDT', 'ATAUSDT', 'NEBLUSDT', 'STXUSDT', 'GNSUSDT', 'PHAUSDT', 'DOTUSDT', 'TWTUSDT', 'LRCUSDT', 'MAGICUSDT', 'OGNUSDT', 'PYRUSDT', 'ICXUSDT', 'ELFUSDT', 'WINGUSDT', 'KMDUSDT', 'LINKUSDT', 'COCOSUSDT', 'APEUSDT', 'JOEUSDT', 'APTUSDT', 'OMGUSDT', 'RENUSDT', 'CKBUSDT', 'IDUSDT', 'AUDUSDT', 'BUSDUSDT', 'ALICEUSDT', 'C98USDT', 'CHESSUSDT', 'KAVAUSDT', 'RPLUSDT', 'DODOUSDT', 'TVKUSDT', 'ROSEUSDT', 'AXSUSDT', 'SFPUSDT', 'NEOUSDT', 'ONEUSDT', '1INCHUSDT', 'CHZUSDT', 'SUSHIUSDT', 'JASMYUSDT', 'FXSUSDT', 'ARBUSDT', 'LAZIOUSDT', 'CRVUSDT', 'DEGOUSDT', 'COTIUSDT', 'SOLUSDT', 'MOBUSDT', 'KLAYUSDT', 'IMXUSDT', 'AUDIOUSDT', 'RNDRUSDT', 'HOOKUSDT', 'YFIUSDT', 'FORTHUSDT', 'GTCUSDT', 'ICPUSDT', 'KSMUSDT', 'USDPUSDT', 'MTLUSDT', 'BTCDOWNUSDT', 'MDTUSDT', 'LTCUSDT', 'TRXUSDT', 'FISUSDT', 'BALUSDT', 'ASTRUSDT', 'UMAUSDT', 'FETUSDT', 'WAVESUSDT', 'AVAXUSDT', 'BLZUSDT', 'SUPERUSDT', 'WTCUSDT', 'SXPUSDT', 'NULSUSDT', 'FLUXUSDT', 'HOTUSDT', 'VTHOUSDT', 'ADADOWNUSDT', 'MASKUSDT', 'VGXUSDT', 'HFTUSDT', 'SNXUSDT', 'AMBUSDT', 'CAKEUSDT', 'AAVEUSDT', 'NKNUSDT', 'POLSUSDT', 'MKRUSDT', 'QTUMUSDT', 'KDAUSDT', 'SANDUSDT', 'PERLUSDT', 'ACAUSDT', 'EGLDUSDT', 'GALUSDT', 'ATOMUSDT', 'ZILUSDT', 'MINAUSDT', 'AMPUSDT', 'TKOUSDT', 'TRUUSDT', 'AUCTIONUSDT', 'ENSUSDT', 'LITUSDT', 'LINAUSDT', 'FLOWUSDT', 'BTCUSDT', 'XLMUSDT', 'EURUSDT', 'LEVERUSDT', 'ARUSDT', 'BANDUSDT', 'SYNUSDT', 'CTKUSDT', 'STRAXUSDT', 'BNBUSDT', 'ETCUSDT', 'DFUSDT', 'GBPUSDT', 'CELRUSDT', 'INJUSDT', 'QUICKUSDT', 'DENTUSDT', 'RSRUSDT', 'RLCUSDT', 'SANTOSUSDT', 'FILUSDT', 'IOTXUSDT', 'PHBUSDT', 'GRTUSDT', 'TOMOUSDT', 'UNIUSDT', 'ARPAUSDT', 'RIFUSDT', 'ENJUSDT', 'ZRXUSDT', 'KEYUSDT', 'CELOUSDT', 'MATICUSDT', 'WOOUSDT', 'THETAUSDT', 'NEARUSDT', 'SSVUSDT', 'RVNUSDT', 'ACHUSDT', 'EOSUSDT', 'STORJUSDT', 'BURGERUSDT', 'ETHUSDT', 'PEOPLEUSDT', 'OCEANUSDT', 'KNCUSDT', 'XMRUSDT', 'DUSKUSDT', 'HIGHUSDT', 'TROYUSDT', 'TLMUSDT', 'PAXGUSDT', 'RDNTUSDT', 'GMXUSDT', 'FTMUSDT', 'TUSDT', 'ZENUSDT', 'POLYXUSDT', 'OAXUSDT', 'LDOUSDT', 'DASHUSDT', 'XTZUSDT', 'LQTYUSDT', 'GMTUSDT', 'PORTOUSDT', 'RADUSDT', 'BAKEUSDT', 'RAYUSDT', 'HIVEUSDT', 'RUNEUSDT', 'COMPUSDT', 'IOSTUSDT', 'ZECUSDT', 'DYDXUSDT', 'XRPDOWNUSDT', 'VIDTUSDT', 'LUNCUSDT', 'USTCUSDT', 'BCHUSDT', 'STGUSDT', 'SKLUSDT', 'ALPINEUSDT', 'LUNAUSDT', 'YGGUSDT', 'BNXUSDT', 'REEFUSDT', 'OPUSDT', 'PERPUSDT', 'VETUSDT', 'GALAUSDT', 'XRPUSDT', 'ADAUSDT', 'SPELLUSDT', 'CFXUSDT']\n"
     ]
    }
   ],
   "source": [
    "import json\n",
    "\n",
    "path = \"/home/alberto/Docker/Trading/analysis/json/data.json\"\n",
    "f = open (path, \"r\")\n",
    "data = json.loads(f.read())\n",
    "\n",
    "print(list(data['data'].keys()))"
   ]
  },
  {
   "cell_type": "code",
   "execution_count": 3,
   "id": "4fc2a9ab",
   "metadata": {},
   "outputs": [
    {
     "data": {
      "text/plain": [
       "7454"
      ]
     },
     "execution_count": 3,
     "metadata": {},
     "output_type": "execute_result"
    }
   ],
   "source": [
    "obs = len(data['data']['BTCUSDT'])\n",
    "obs"
   ]
  },
  {
   "cell_type": "code",
   "execution_count": 5,
   "id": "654178cc",
   "metadata": {},
   "outputs": [
    {
     "data": {
      "text/plain": [
       "'2023-04-05T14:31:23.048834+00:00'"
      ]
     },
     "execution_count": 5,
     "metadata": {},
     "output_type": "execute_result"
    }
   ],
   "source": [
    "data['datetime_creation']"
   ]
  },
  {
   "cell_type": "code",
   "execution_count": null,
   "id": "741d46cf",
   "metadata": {},
   "outputs": [],
   "source": []
  }
 ],
 "metadata": {
  "kernelspec": {
   "display_name": "Python 3 (ipykernel)",
   "language": "python",
   "name": "python3"
  },
  "language_info": {
   "codemirror_mode": {
    "name": "ipython",
    "version": 3
   },
   "file_extension": ".py",
   "mimetype": "text/x-python",
   "name": "python",
   "nbconvert_exporter": "python",
   "pygments_lexer": "ipython3",
   "version": "3.10.6"
  }
 },
 "nbformat": 4,
 "nbformat_minor": 5
}

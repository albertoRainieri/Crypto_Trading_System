{
 "cells": [
  {
   "cell_type": "code",
   "execution_count": null,
   "metadata": {},
   "outputs": [],
   "source": [
    "import json\n",
    "import matplotlib.pyplot as plt\n",
    "import numpy as np\n",
    "from datetime import datetime, timedelta, timezone\n",
    "import requests\n",
    "import os\n",
    "from time import sleep\n",
    "import pytz\n",
    "from scipy.stats import pearsonr\n",
    "from Functions import check_correlation, analyze_events, wrap_analyze_events, load_data, data_preparation, wrap_analyze_events_multiprocessing, show_output, start_wrap_analyze_events_multiprocessing\n",
    "import pandas as pd\n",
    "pd.set_option('display.max_rows', None)\n",
    "from time import time\n",
    "from multiprocessing import Process\n",
    "from multiprocessing import Lock, Pool, Manager\n",
    "from time import time"
   ]
  },
  {
   "cell_type": "code",
   "execution_count": null,
   "metadata": {},
   "outputs": [],
   "source": [
    "start_interval=datetime(2023,5,7)\n",
    "end_interval=datetime.now()\n",
    "\n",
    "filter_position=(0,100)\n",
    "\n",
    "data, df = load_data(start_interval=start_interval, end_interval=end_interval, filter_position=filter_position)\n",
    "df"
   ]
  },
  {
   "cell_type": "code",
   "execution_count": null,
   "metadata": {},
   "outputs": [],
   "source": [
    "# WRAP ANALYSIS EVENTS\n",
    "list_buy_vol = ['buy_vol_5m', 'buy_vol_15m', 'buy_vol_30m', 'buy_vol_60m', 'buy_vol_24h']\n",
    "list_buy_vol = ['buy_vol_5m', 'buy_vol_15m', 'buy_vol_30m', 'buy_vol_60m']\n",
    "list_vol = ['vol_5m', 'vol_15m', 'vol_30m', 'vol_60m', 'vol_24h']\n",
    "list_vol = ['vol_5m', 'vol_15m', 'vol_30m', 'vol_60m']\n",
    "list_minutes = [5, 15, 30, 60, 120, 180, 360]\n",
    "list_event_buy_volume = [0.7, 0.8]\n",
    "list_event_volume = [5,6]\n",
    "\n",
    "resp = wrap_analyze_events(data, list_buy_vol, list_vol, list_minutes, list_event_buy_volume,\n",
    "                    list_event_volume, start_interval, end_interval)\n"
   ]
  },
  {
   "cell_type": "code",
   "execution_count": null,
   "metadata": {},
   "outputs": [],
   "source": [
    "list_buy_vol = ['buy_vol_5m', 'buy_vol_15m', 'buy_vol_30m', 'buy_vol_60m', 'buy_vol_24h']\n",
    "list_buy_vol = ['buy_vol_5m', 'buy_vol_15m', 'buy_vol_30m', 'buy_vol_60m']\n",
    "list_vol = ['vol_5m', 'vol_15m', 'vol_30m', 'vol_60m', 'vol_24h']\n",
    "list_vol = ['vol_5m', 'vol_15m', 'vol_30m', 'vol_60m']\n",
    "list_minutes = [5, 15, 30, 60, 120, 180, 360]\n",
    "list_event_buy_volume = [0.7, 0.8]\n",
    "list_event_volume = [5,6]\n",
    "n_processes = 6\n",
    "\n",
    "shared_data = start_wrap_analyze_events_multiprocessing(data, list_buy_vol, list_vol, list_minutes, list_event_buy_volume, list_event_volume, start_interval, end_interval, n_processes)"
   ]
  },
  {
   "cell_type": "code",
   "execution_count": null,
   "metadata": {},
   "outputs": [],
   "source": [
    "# ANALYSIS MULTIPROCESSING 2\n",
    "t1 = time()\n",
    "\n",
    "data_arguments = data_preparation(data, n_processes = 6)\n",
    "\n",
    "# MULTIPROCESSING WRAP ANALYSIS EVENTS\n",
    "list_buy_vol = ['buy_vol_5m', 'buy_vol_15m', 'buy_vol_30m', 'buy_vol_60m', 'buy_vol_24h']\n",
    "list_buy_vol = ['buy_vol_5m', 'buy_vol_15m', 'buy_vol_30m', 'buy_vol_60m']\n",
    "list_vol = ['vol_5m', 'vol_15m', 'vol_30m', 'vol_60m', 'vol_24h']\n",
    "list_vol = ['vol_5m', 'vol_15m', 'vol_30m', 'vol_60m']\n",
    "list_minutes = [5, 15, 30, 60, 120, 180, 360]\n",
    "list_event_buy_volume = [0.7, 0.8]\n",
    "list_event_volume = [5,6]\n",
    "\n",
    "total_combinations = len(list_buy_vol) * len(list_vol) * len(list_minutes) * len(list_event_volume) * len(list_event_buy_volume)\n",
    "print('total_combinantions', ': ', total_combinations)\n",
    "path = \"/home/alberto/Docker/Trading/analysis/analysis_json/\"\n",
    "\n",
    "\n",
    "\n",
    "now = datetime.now()\n",
    "now_year = str(now.year)\n",
    "now_month = str(now.month)\n",
    "now_day = str(now.day)\n",
    "now_hour = str(now.hour)\n",
    "now_minute = str(now.minute)\n",
    "file_path = path + now_month+now_day+ '_' + now_hour+now_minute + '.json'\n",
    "\n",
    "manager = Manager()\n",
    "# Create shared memory for JSON data\n",
    "shared_data = manager.Value(str, json.dumps({}))\n",
    "lock = Manager().Lock()\n",
    "\n",
    "\n",
    "# Create a multiprocessing Pool\n",
    "pool = Pool()\n",
    "\n",
    "# Execute the function in parallel\n",
    "pool.starmap(wrap_analyze_events_multiprocessing, [(arg, arg_i, list_buy_vol, list_vol, list_minutes,\n",
    "                                    list_event_buy_volume, list_event_volume, start_interval,\n",
    "                                    end_interval, file_path, lock, shared_data) for arg, arg_i in zip(data_arguments, range(1,len(data_arguments)+1))])\n",
    "\n",
    "# Close the pool\n",
    "pool.close()\n",
    "pool.join()\n",
    "t2 = time()\n",
    "print(t2-t1, ' seconds')\n"
   ]
  },
  {
   "cell_type": "code",
   "execution_count": null,
   "metadata": {},
   "outputs": [],
   "source": [
    "shared_data.value"
   ]
  },
  {
   "cell_type": "code",
   "execution_count": null,
   "metadata": {},
   "outputs": [],
   "source": [
    "def show_output(shared_data):\n",
    "    '''\n",
    "    This function takes as input the shared_data from \"wrap_analyze_events_multiprocessing\" ans return the output available for pandas\n",
    "    '''\n",
    "    shared_data = json.loads(shared_data.value)\n",
    "    output = {}\n",
    "    for key in list(shared_data.keys()):\n",
    "        if key is not 'coins' or key is not 'events':\n",
    "            if shared_data[key]['events'] > 0:\n",
    "                shared_data[key]['price_changes'] = np.array(shared_data[key]['price_changes'])\n",
    "\n",
    "                isfinite = np.isfinite(shared_data[key]['price_changes'])\n",
    "                shared_data[key]['price_changes'] = shared_data[key]['price_changes'][isfinite]\n",
    "\n",
    "                mean_weighted = np.mean(shared_data[key]['price_changes'])*100\n",
    "                std_weighted = np.std(shared_data[key]['price_changes'])*100\n",
    "\n",
    "                output[key] = {'mean': mean_weighted, 'std': std_weighted, 'n_coins': len(shared_data[key]['coins']), 'n_events': shared_data[key]['events']}\n",
    "            else:\n",
    "                output[key] = {'mean': None, 'std': None, 'n_coins': 0, 'n_events': 0}\n",
    "\n",
    "    return output"
   ]
  },
  {
   "cell_type": "code",
   "execution_count": null,
   "metadata": {},
   "outputs": [],
   "source": [
    "output = show_output(shared_data)\n",
    "df = pd.DataFrame(output).transpose()\n",
    "lb = []\n",
    "for index, row in df.iterrows():\n",
    "    mean = row['mean']\n",
    "    std = row['std']\n",
    "    lb.append(mean - std)\n",
    "    \n",
    "    \n",
    "df['lb'] = lb\n",
    "    \n",
    "df.sort_values(by=['lb'], ascending=False)"
   ]
  },
  {
   "cell_type": "code",
   "execution_count": null,
   "metadata": {},
   "outputs": [],
   "source": [
    "df = pd.DataFrame(resp).transpose()\n",
    "lb = []\n",
    "for index, row in df.iterrows():\n",
    "    mean = row['mean']\n",
    "    std = row['std']\n",
    "    lb.append(mean - std)\n",
    "    \n",
    "    \n",
    "df['lb'] = lb\n",
    "    \n",
    "df.sort_values(by=['lb'], ascending=False)"
   ]
  },
  {
   "cell_type": "code",
   "execution_count": null,
   "metadata": {},
   "outputs": [],
   "source": [
    "output = show_output(shared_data)\n",
    "df = pd.DataFrame(output).transpose()\n",
    "df"
   ]
  },
  {
   "cell_type": "code",
   "execution_count": null,
   "metadata": {},
   "outputs": [],
   "source": []
  }
 ],
 "metadata": {
  "kernelspec": {
   "display_name": "Python 3 (ipykernel)",
   "language": "python",
   "name": "python3"
  },
  "language_info": {
   "codemirror_mode": {
    "name": "ipython",
    "version": 3
   },
   "file_extension": ".py",
   "mimetype": "text/x-python",
   "name": "python",
   "nbconvert_exporter": "python",
   "pygments_lexer": "ipython3",
   "version": "3.10.6"
  }
 },
 "nbformat": 4,
 "nbformat_minor": 2
}

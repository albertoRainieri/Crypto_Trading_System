{
 "cells": [
  {
   "cell_type": "code",
   "execution_count": null,
   "metadata": {},
   "outputs": [],
   "source": [
    "import json\n",
    "import matplotlib.pyplot as plt\n",
    "import numpy as np\n",
    "from datetime import datetime, timedelta, timezone\n",
    "import requests\n",
    "import os\n",
    "from time import sleep\n",
    "import pytz\n",
    "from scipy.stats import pearsonr\n",
    "from Functions import check_correlation, analyze_events, wrap_analyze_events, load_data, data_preparation, wrap_analyze_events_multiprocessing, show_output, start_wrap_analyze_events_multiprocessing\n",
    "from Functions import get_dynamic_volume_avg, get_benchmark_info, show_output_nomultiprocessing\n",
    "import pandas as pd\n",
    "pd.set_option('display.max_rows', None)\n",
    "from time import time\n",
    "from multiprocessing import Process\n",
    "from multiprocessing import Lock, Pool, Manager\n",
    "from time import time"
   ]
  },
  {
   "cell_type": "code",
   "execution_count": null,
   "metadata": {},
   "outputs": [],
   "source": [
    "start_interval=datetime(2023,5,11)\n",
    "end_interval=datetime.now()\n",
    "end_interval=datetime(2023,5,13)\n",
    "\n",
    "\n",
    "filter_position=(0,100)\n",
    "\n",
    "data, df, df_obj = load_data(start_interval=start_interval, end_interval=end_interval, filter_position=filter_position)\n",
    "df"
   ]
  },
  {
   "cell_type": "code",
   "execution_count": null,
   "metadata": {},
   "outputs": [],
   "source": [
    "# WRAP ANALYSIS EVENTS\n",
    "list_buy_vol = ['buy_vol_5m', 'buy_vol_15m', 'buy_vol_30m', 'buy_vol_60m', 'buy_vol_24h']\n",
    "list_buy_vol = ['buy_vol_5m', 'buy_vol_15m', 'buy_vol_30m', 'buy_vol_60m']\n",
    "list_vol = ['vol_5m', 'vol_15m', 'vol_30m', 'vol_60m', 'vol_24h']\n",
    "list_vol = ['vol_5m', 'vol_15m', 'vol_30m', 'vol_60m']\n",
    "list_minutes = [5, 15, 30, 60, 120, 180, 360]\n",
    "list_event_buy_volume = [0.7, 0.8]\n",
    "list_event_volume = [5,6]\n",
    "\n",
    "resp = wrap_analyze_events(data, list_buy_vol, list_vol, list_minutes, list_event_buy_volume,\n",
    "                    list_event_volume, start_interval, end_interval)\n"
   ]
  },
  {
   "cell_type": "code",
   "execution_count": null,
   "metadata": {},
   "outputs": [],
   "source": [
    "# SHOW DATA FROM WRAP ANALYSIS EVENTS (NO MULTIPROCESSING)\n",
    "df = show_output_nomultiprocessing(resp)\n",
    "df"
   ]
  },
  {
   "cell_type": "code",
   "execution_count": null,
   "metadata": {},
   "outputs": [],
   "source": [
    "# WRAP ANALYSIS EVENTS MULTIPROCESSING\n",
    "list_buy_vol = ['buy_vol_5m', 'buy_vol_15m', 'buy_vol_30m', 'buy_vol_60m', 'buy_vol_24h']\n",
    "list_buy_vol = ['buy_vol_5m', 'buy_vol_15m', 'buy_vol_30m', 'buy_vol_60m']\n",
    "list_vol = ['vol_5m', 'vol_15m', 'vol_30m', 'vol_60m', 'vol_24h']\n",
    "list_vol = ['vol_5m', 'vol_15m', 'vol_30m', 'vol_60m']\n",
    "list_minutes = [5, 15, 30, 60, 120, 180, 360]\n",
    "list_event_buy_volume = [0.65, 0.7, 0.8]\n",
    "list_event_volume = [4,5,6]\n",
    "n_processes = 6\n",
    "\n",
    "shared_data = start_wrap_analyze_events_multiprocessing(data, list_buy_vol, list_vol, \n",
    "                                                        list_minutes, list_event_buy_volume,\n",
    "                                                        list_event_volume, start_interval,\n",
    "                                                        end_interval, n_processes)\n"
   ]
  },
  {
   "cell_type": "code",
   "execution_count": null,
   "metadata": {},
   "outputs": [],
   "source": [
    "# SHOW DATA FROM MULTIPROCESSING\n",
    "output = show_output(shared_data)\n",
    "df = pd.DataFrame(output).transpose()\n",
    "df.sort_values(by=['lower_bound'], ascending=False)"
   ]
  },
  {
   "cell_type": "code",
   "execution_count": null,
   "metadata": {},
   "outputs": [],
   "source": []
  },
  {
   "cell_type": "code",
   "execution_count": null,
   "metadata": {},
   "outputs": [],
   "source": []
  },
  {
   "cell_type": "code",
   "execution_count": null,
   "metadata": {},
   "outputs": [],
   "source": []
  },
  {
   "cell_type": "code",
   "execution_count": null,
   "metadata": {},
   "outputs": [],
   "source": []
  },
  {
   "cell_type": "code",
   "execution_count": null,
   "metadata": {},
   "outputs": [],
   "source": []
  },
  {
   "cell_type": "code",
   "execution_count": null,
   "metadata": {},
   "outputs": [],
   "source": []
  },
  {
   "cell_type": "code",
   "execution_count": null,
   "metadata": {},
   "outputs": [],
   "source": []
  },
  {
   "cell_type": "code",
   "execution_count": null,
   "metadata": {},
   "outputs": [],
   "source": []
  }
 ],
 "metadata": {
  "kernelspec": {
   "display_name": "Python 3 (ipykernel)",
   "language": "python",
   "name": "python3"
  },
  "language_info": {
   "codemirror_mode": {
    "name": "ipython",
    "version": 3
   },
   "file_extension": ".py",
   "mimetype": "text/x-python",
   "name": "python",
   "nbconvert_exporter": "python",
   "pygments_lexer": "ipython3",
   "version": "3.10.6"
  }
 },
 "nbformat": 4,
 "nbformat_minor": 2
}

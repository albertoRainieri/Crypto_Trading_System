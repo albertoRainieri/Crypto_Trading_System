{
 "cells": [
  {
   "cell_type": "code",
   "execution_count": 1,
   "metadata": {},
   "outputs": [],
   "source": [
    "import json\n",
    "import matplotlib.pyplot as plt\n",
    "import numpy as np\n",
    "from datetime import datetime, timedelta, timezone\n",
    "import requests\n",
    "import os"
   ]
  },
  {
   "cell_type": "code",
   "execution_count": 2,
   "metadata": {},
   "outputs": [
    {
     "name": "stdout",
     "output_type": "stream",
     "text": [
      "Retrieving data from /home/alberto/Docker/Trading/analysis/json/data-03-04-2023.json\n",
      "2023-04-10T23:48:05.511417\n",
      "Retrieving data from /home/alberto/Docker/Trading/analysis/json/data-12-4-2023.json\n",
      "2023-04-12T13:06:05.383969\n"
     ]
    }
   ],
   "source": [
    "path_dir = \"/home/alberto/Docker/Trading/analysis/json\"\n",
    "list_json = os.listdir(path_dir)\n",
    "full_paths = [path_dir + \"/{0}\".format(x) for x in list_json]\n",
    "\n",
    "list_json_info = []\n",
    "for full_path in full_paths:\n",
    "    json_ = {'path': full_path, 'time': os.path.getmtime(full_path)}\n",
    "    list_json_info.append(json_)\n",
    "\n",
    "list_json_info.sort(key=lambda x: x['time'], reverse=False)\n",
    "list_json_info\n",
    "\n",
    "data_dict = {}\n",
    "for json_info in list_json_info:\n",
    "    path = json_info['path']\n",
    "    print(f'Retrieving data from {path}')\n",
    "    f = open(path, \"r\")\n",
    "    if len(data_dict) == 0:\n",
    "        data_dict = json.loads(f.read())\n",
    "        #print(data_dict['data']['BTCUSDT'][-1]['_id'])\n",
    "    else:\n",
    "        temp_data_dict = json.loads(f.read())\n",
    "        #print(f'{temp_data_dict['data']['BTCUSDT'][0]['_id']})\n",
    "        for coin in temp_data_dict['data']:\n",
    "            if coin not in data_dict['data']:\n",
    "                data_dict['data'][coin] = []\n",
    "            for obs in temp_data_dict['data'][coin]:\n",
    "                data_dict['data'][coin].append(obs)\n",
    "data = data_dict['data']"
   ]
  },
  {
   "cell_type": "code",
   "execution_count": 3,
   "metadata": {},
   "outputs": [
    {
     "name": "stdout",
     "output_type": "stream",
     "text": [
      "2023-04-10T23:49:05.727023\n"
     ]
    }
   ],
   "source": [
    "print(temp_data_dict['data']['BTCUSDT'][0]['_id'])"
   ]
  },
  {
   "cell_type": "code",
   "execution_count": null,
   "metadata": {},
   "outputs": [],
   "source": [
    "# FETCH TRACKER DATA\n",
    "path = \"/home/alberto/Docker/Trading/analysis/json/data.json\"\n",
    "f = open (path, \"r\")\n",
    "data_dict = json.loads(f.read())\n",
    "data = data_dict['data']\n",
    "print('DATETIME CREATION: ', data_dict['datetime_creation'])\n",
    "\n",
    "# FETCH MOST TRADED COINS\n",
    "path = \"/home/alberto/Docker/Trading/tracker/json/most_traded_coins.json\"\n",
    "f = open (path, \"r\")\n",
    "most_traded_coins = json.loads(f.read())\n",
    "most_traded_coins = most_traded_coins['most_traded_coins']"
   ]
  },
  {
   "cell_type": "code",
   "execution_count": null,
   "metadata": {},
   "outputs": [],
   "source": [
    "#['_id','price', price_%_1d','price_%_6h','price_%_3h','price_%_1h',\n",
    "#'vol_1m', 'buy_vol_1m', buy_trd_1m\n",
    "#'vol_5m','vol_5m_std','buy_vol_5m','buy_vol_5m_std','buy_trd_5m','buy_trd_5m_std',\n",
    "#'vol_15m','vol_15m_std','buy_vol_15m','buy_vol_15m_std','buy_trd_15m','buy_trd_15m_std',\n",
    "#'vol_30m','vol_30m_std','buy_vol_30m','buy_vol_30m_std','buy_trd_30m','buy_trd_30m_std',\n",
    "#'vol_60m','vol_60m_std','buy_vol_60m','buy_vol_60m_std','buy_trd_60m','buy_trd_60m_std',\n",
    "#'vol_24h','vol_24h_std','buy_vol_24h','buy_vol_24h_std','buy_trd_24h','buy_trd_24h_std']"
   ]
  },
  {
   "cell_type": "code",
   "execution_count": null,
   "metadata": {},
   "outputs": [],
   "source": [
    "def search_focus_points(data, most_traded_coins,  days_start=4, days_finish=3, volume_limit=0.8, buy_volume_limit=0.55, referenceTime_volume='vol_5m',\n",
    "                         referenceTime_Buyvolume='buy_vol_5m', filter_position=50):\n",
    "    '''\n",
    "    This function looks for all those points in time for each coin that have interesting events.\n",
    "    '''\n",
    "\n",
    "    most_traded_coins = most_traded_coins[:filter_position]\n",
    "\n",
    "    minutes_start = int(days_start*24*60)\n",
    "    if days_finish:\n",
    "        minutes_end = int(days_finish*24*60)\n",
    "    else:\n",
    "        minutes_end = None\n",
    "\n",
    "    events = {}\n",
    "    for coin in data:\n",
    "        if coin in most_traded_coins:\n",
    "            i = 0\n",
    "            for obs in data[coin][-minutes_start:minutes_end]:\n",
    "                try:\n",
    "                    i += 1\n",
    "                    if obs[referenceTime_volume] and obs[referenceTime_volume] >= volume_limit and obs[referenceTime_Buyvolume] >= buy_volume_limit:\n",
    "                        if coin not in events:\n",
    "                            events[coin] = []\n",
    "                        obs['position'] = most_traded_coins.index(coin)\n",
    "                        obs['timeseries_position'] = i\n",
    "                        events[coin].append(obs)\n",
    "                except:\n",
    "                    pass\n",
    "\n",
    "\n",
    "    \n",
    "    n_coins = len(events)\n",
    "    print(f'Total Coins: {n_coins}')\n",
    "    for coin in events:\n",
    "        len_events_coin = len(events[coin])\n",
    "        position = events[coin][0]['position']\n",
    "        datetime_first_event = events[coin][0]['_id']\n",
    "        print(f'{len_events_coin} events for {coin} in position {position}')\n",
    "        print(f'First event at {datetime_first_event}')\n",
    "\n",
    "\n",
    "    # minutes past from which evaluate price changes\n",
    "    reference_time = [5, 10, 15, 20, 25, 30, 40, 50, 60, 90, 120, 240, 480, 720, 1440, 2880, 5760, 10080]\n",
    "    reference_time = [5, 10, 15, 20, 25, 30, 40, 50, 60, 90, 120, 240, 480, 720, 1440, 2880, 5760]\n",
    "    reference_time = [5, 10, 15, 20, 25, 30, 40, 50, 60, 90, 120, 240, 480, 720, 1440]\n",
    "    #reference_time = [5]\n",
    "\n",
    "    results = {}\n",
    "    for coin in events:\n",
    "        for event in events[coin]:\n",
    "            initial_price = event['price']\n",
    "            iso_timestamp_start = event['_id']\n",
    "            datetime_initial_price = datetime.fromisoformat(iso_timestamp_start)\n",
    "            for minutes in reference_time:\n",
    "                estimated_iso_timestamp_end = (datetime_initial_price + timedelta(minutes=minutes)).isoformat()\n",
    "                position_timeseries = event['timeseries_position']\n",
    "                timeseries = data[coin][-minutes_start:minutes_end]\n",
    "                final_price = timeseries[position_timeseries]['price']\n",
    "                real_iso_timestamp_end = timeseries[position_timeseries+minutes]['_id']\n",
    "                print(f'Estimated ISO timestamp: {estimated_iso_timestamp_end}')\n",
    "                print(f'Real ISO timestamp: {real_iso_timestamp_end}')\n",
    "    \n",
    "                \n",
    "    # TODO: CHECK IF THE COIN IS CONSISTENT IN BENCHMARK\n",
    "        \n",
    "\n",
    "        \n",
    "    return events\n",
    "\n",
    "\n",
    "events = search_focus_points(data, most_traded_coins,  days_start=2, days_finish=1, volume_limit=6, buy_volume_limit=0.55, referenceTime_volume='vol_5m',\n",
    "                         referenceTime_Buyvolume='buy_vol_5m', filter_position=50)\n",
    "\n"
   ]
  },
  {
   "cell_type": "code",
   "execution_count": null,
   "metadata": {},
   "outputs": [],
   "source": [
    "events['IOSTUSDT']"
   ]
  },
  {
   "cell_type": "code",
   "execution_count": null,
   "metadata": {},
   "outputs": [],
   "source": []
  }
 ],
 "metadata": {
  "kernelspec": {
   "display_name": "Python 3",
   "language": "python",
   "name": "python3"
  },
  "language_info": {
   "codemirror_mode": {
    "name": "ipython",
    "version": 3
   },
   "file_extension": ".py",
   "mimetype": "text/x-python",
   "name": "python",
   "nbconvert_exporter": "python",
   "pygments_lexer": "ipython3",
   "version": "3.10.6"
  },
  "orig_nbformat": 4
 },
 "nbformat": 4,
 "nbformat_minor": 2
}

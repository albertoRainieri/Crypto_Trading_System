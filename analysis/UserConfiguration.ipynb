{
 "cells": [
  {
   "cell_type": "code",
   "execution_count": 10,
   "metadata": {},
   "outputs": [],
   "source": [
    "request = {\"albertorainieri\": \n",
    "    {\n",
    "        \"trading_live\": False,\n",
    "        \"initialized_balance_account\": 1000,\n",
    "        \"initialized_investment_amount\": 100,\n",
    "        \"clean_db_trading\": False,\n",
    "        \"api_key_path\": \"/tracker/ssh/albertorainieri/api_key\",\n",
    "        \"private_key_path\": \"/tracker/ssh/albertorainieri/id_rsa\"\n",
    "    }\n",
    "}"
   ]
  },
  {
   "cell_type": "code",
   "execution_count": 11,
   "metadata": {},
   "outputs": [
    {
     "name": "stdout",
     "output_type": "stream",
     "text": [
      "Status Code is :  200\n",
      "Recall to set SEND to False\n"
     ]
    }
   ],
   "source": [
    "from Functions import send_userconfiguration\n",
    "\n",
    "SEND = False\n",
    "if SEND:\n",
    "    send_userconfiguration(request=request)\n",
    "    print('Recall to set SEND to False')\n",
    "else:\n",
    "    print('SEND is False, set to True')"
   ]
  }
 ],
 "metadata": {
  "kernelspec": {
   "display_name": "Python 3",
   "language": "python",
   "name": "python3"
  },
  "language_info": {
   "codemirror_mode": {
    "name": "ipython",
    "version": 3
   },
   "file_extension": ".py",
   "mimetype": "text/x-python",
   "name": "python",
   "nbconvert_exporter": "python",
   "pygments_lexer": "ipython3",
   "version": "3.9.6"
  },
  "orig_nbformat": 4
 },
 "nbformat": 4,
 "nbformat_minor": 2
}

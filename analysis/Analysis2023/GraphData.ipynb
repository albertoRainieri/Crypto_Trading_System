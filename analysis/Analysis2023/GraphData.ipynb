{
 "cells": [
  {
   "cell_type": "code",
   "execution_count": null,
   "id": "f4b3ca34",
   "metadata": {},
   "outputs": [],
   "source": [
    "import json\n",
    "import matplotlib.pyplot as plt\n",
    "import numpy as np\n",
    "from datetime import datetime, timedelta, timezone\n",
    "import matplotlib.dates as mdates"
   ]
  },
  {
   "cell_type": "code",
   "execution_count": null,
   "id": "cebdbcee",
   "metadata": {},
   "outputs": [],
   "source": [
    "path = \"/home/alberto/Docker/Trading/analysis/json/data.json\"\n",
    "f = open (path, \"r\")\n",
    "data_dict = json.loads(f.read())\n",
    "data = data_dict['data']\n",
    "print('DATETIME CREATION: ', data_dict['datetime_creation'])"
   ]
  },
  {
   "cell_type": "code",
   "execution_count": null,
   "id": "d2ff29e2",
   "metadata": {},
   "outputs": [],
   "source": [
    "keys_obj = list(data['BTCUSDT'][-1].keys())\n",
    "#['_id','price', price_%_1d','price_%_6h','price_%_3h','price_%_1h',\n",
    "#'vol_1m', 'buy_vol_1m', buy_trd_1m\n",
    "#'vol_5m','vol_5m_std','buy_vol_5m','buy_vol_5m_std','buy_trd_5m','buy_trd_5m_std',\n",
    "#'vol_15m','vol_15m_std','buy_vol_15m','buy_vol_15m_std','buy_trd_15m','buy_trd_15m_std',\n",
    "#'vol_30m','vol_30m_std','buy_vol_30m','buy_vol_30m_std','buy_trd_30m','buy_trd_30m_std',\n",
    "#'vol_60m','vol_60m_std','buy_vol_60m','buy_vol_60m_std','buy_trd_60m','buy_trd_60m_std',\n",
    "#'vol_24h','vol_24h_std','buy_vol_24h','buy_vol_24h_std','buy_trd_24h','buy_trd_24h_std']"
   ]
  },
  {
   "cell_type": "code",
   "execution_count": null,
   "id": "4fc2a9ab",
   "metadata": {},
   "outputs": [],
   "source": [
    "def getTimeseries(data, coin, key, days=1):\n",
    "    timeseries = [obj[key] for obj in data[coin][-int(days*24*60):]]\n",
    "    \n",
    "    return np.array(timeseries)\n",
    "    \n",
    "def getDateSeries(coin, days=1):\n",
    "    \n",
    "    timeseries = [obj['_id'] for obj in data[coin]][-int(days*24*60):]\n",
    "    date_series = []\n",
    "    for date in timeseries:\n",
    "        date_series.append(np.datetime64(date))\n",
    "    \n",
    "    return np.array(date_series)\n",
    "    \n",
    "def normalizeData(timeseries):\n",
    "    mean = np.mean(timeseries)\n",
    "    std = np.std(timeseries)\n",
    "    \n",
    "    normalized_data = (timeseries - mean) / std\n",
    "    return normalized_data\n",
    "\n",
    "def post_prices(n, prices, buy_volumes, volumes=None, volume_filter_min=None, volume_filter_max=None):\n",
    "    '''\n",
    "    this function anticipates eliminates the first n elements of the list.\n",
    "    This is to evaluate if the buy_volume affects the prices in the future\n",
    "    \n",
    "    '''\n",
    "    \n",
    "    \n",
    "    prices = prices[n:]\n",
    "    buy_volumes = buy_volumes[:-n]\n",
    "    \n",
    "    if volume_filter_min == None:\n",
    "        print('Correlation list prices and buy: ', np.corrcoef(prices,buy_volumes)[0,1]) \n",
    "    else:\n",
    "        subset_prices = []\n",
    "        subset_buyvolume = []\n",
    "\n",
    "\n",
    "        for volume, price, buy_volume in zip(volumes, prices, buy_volumes):\n",
    "            if volume > volume_filter_min and volume < volume_filter_max:\n",
    "                subset_prices.append(price)\n",
    "                subset_buyvolume.append(buy_volume)\n",
    "                \n",
    "        print('length of sample: ',len(subset_prices))\n",
    "        print('Correlation post prices and buy: ', np.corrcoef(subset_prices,subset_buyvolume)[0,1])\n",
    "\n",
    "def search_focus_points(data, period, volume_limit, buy_volume_limit, referenceTime_volume, referenceTime_Buyvolume):\n",
    "    '''\n",
    "    This function looks for all those points in time for each coin that have interesting events.\n",
    "    '''\n",
    "    response = {}\n",
    "    for coin in data:\n",
    "        for obs in data[coin][-int(period*24*60):]:\n",
    "            if obs[referenceTime_volume] >= buy_volume_limit and obs[referenceTime_Buyvolume] >= referenceTime_Buyvolume:\n",
    "                if coin not in response:\n",
    "                    response[coin] = []\n",
    "                response[coin].append(obs)\n",
    "    \n",
    "    return response\n",
    "\n",
    "    \n",
    "\n",
    "\n",
    "       \n",
    "        "
   ]
  },
  {
   "cell_type": "code",
   "execution_count": null,
   "id": "654178cc",
   "metadata": {},
   "outputs": [],
   "source": [
    "DAYS=1/6\n",
    "\n",
    "INTERVAL = int(DAYS * 8)\n",
    "coin = 'LINKUSDT'\n",
    "\n",
    "\n",
    "volumes = getTimeseries(data, coin, 'vol_15m',days=DAYS)\n",
    "volumes_norm = normalizeData(volumes)\n",
    "prices = getTimeseries(data, coin, 'price',days=DAYS)\n",
    "prices_norm = normalizeData(prices)\n",
    "buy_volumes = getTimeseries(data, coin, 'buy_vol_15m',days=DAYS)\n",
    "buy_volumes_norm = normalizeData(buy_volumes)\n",
    "dateseries = getDateSeries(coin, days=DAYS)"
   ]
  },
  {
   "cell_type": "code",
   "execution_count": null,
   "id": "e461cceb",
   "metadata": {},
   "outputs": [],
   "source": [
    "fig, ax = plt.subplots(figsize=(30,20))\n",
    "ax.plot(dateseries, volumes_norm, label='Volumes')\n",
    "ax.plot(dateseries, prices_norm, label='Prices')\n",
    "ax.plot(dateseries, buy_volumes_norm, label='Buy Volumes')\n",
    "ax.xaxis.set_major_locator(mdates.HourLocator(interval=INTERVAL))\n",
    "#ax.xaxis.set_major_formatter(mdates.DateFormatter('%Y-%m-%d: %H-%M'))\n",
    "ax.xaxis.set_major_formatter(mdates.DateFormatter('%d/%m - %H:%M'))\n",
    "\n",
    "ax.tick_params(axis='x', labelsize=10)\n",
    "ax.tick_params(axis='y', labelsize=15)\n",
    "ax.set_xlabel('Date')\n",
    "ax.set_ylabel('Value')\n",
    "ax.set_title('Time series plot with days on x-axis')\n",
    "ax.legend(fontsize=30)\n",
    "plt.show()"
   ]
  },
  {
   "cell_type": "code",
   "execution_count": null,
   "id": "1e4e7ed0",
   "metadata": {},
   "outputs": [],
   "source": []
  },
  {
   "cell_type": "code",
   "execution_count": null,
   "id": "c5747d73",
   "metadata": {},
   "outputs": [],
   "source": [
    "#print('Correlation list prices and buy: ', np.corrcoef(prices,buy_volumes)[0,1])\n",
    "#print('Correlation subset prices and buy: ', np.corrcoef(subset_prices,subset_buyvolume)[0,1])\n",
    "post_prices(1, prices, buy_volumes, volumes, 1.1,3)"
   ]
  },
  {
   "cell_type": "code",
   "execution_count": null,
   "id": "31ea5ecc",
   "metadata": {},
   "outputs": [],
   "source": []
  },
  {
   "cell_type": "code",
   "execution_count": null,
   "id": "6e25959d",
   "metadata": {},
   "outputs": [],
   "source": []
  }
 ],
 "metadata": {
  "kernelspec": {
   "display_name": "Python 3 (ipykernel)",
   "language": "python",
   "name": "python3"
  },
  "language_info": {
   "codemirror_mode": {
    "name": "ipython",
    "version": 3
   },
   "file_extension": ".py",
   "mimetype": "text/x-python",
   "name": "python",
   "nbconvert_exporter": "python",
   "pygments_lexer": "ipython3",
   "version": "3.10.6"
  }
 },
 "nbformat": 4,
 "nbformat_minor": 5
}

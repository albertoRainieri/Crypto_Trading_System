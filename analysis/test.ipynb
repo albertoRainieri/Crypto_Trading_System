{
 "cells": [
  {
   "cell_type": "code",
   "execution_count": null,
   "metadata": {},
   "outputs": [],
   "source": [
    "from Functions import load_data\n",
    "from datetime import datetime\n",
    "import json\n",
    "\n",
    "\n",
    "\n",
    "\n",
    "path = \"/home/alberto/Docker/Trading/analysis/json/data-7-6-2023-9999.json\"\n",
    "start_interval = datetime(2023,6,7,19,48,12)\n",
    "\n",
    "\n",
    "f = open(path, \"r\")\n",
    "data = json.loads(f.read())\n",
    "new_data = {}\n",
    "new_data['datetime_creation'] = data['datetime_creation']\n",
    "new_data['data'] = {}\n",
    "\n",
    "coins = 0\n",
    "events = 0\n",
    "for coin in data['data']:\n",
    "    coins += 1\n",
    "    new_data['data'][coin] = []\n",
    "    for obs in data['data'][coin]:\n",
    "        \n",
    "        if datetime.fromisoformat(obs['_id']) >= start_interval and datetime.fromisoformat(obs['_id']) <= end_interval:\n",
    "            events += 1\n",
    "            print(obs)\n",
    "            print(f'deleted obs for {coin}')\n",
    "        else:\n",
    "            new_data['data'][coin].append(obs)\n",
    "\n",
    "print(f'delete {events} events for {coins} coins')\n",
    "\n",
    "\n"
   ]
  },
  {
   "cell_type": "code",
   "execution_count": 4,
   "metadata": {},
   "outputs": [],
   "source": [
    "import json\n",
    "trading_configuration = { \n",
    "    '1' : {\n",
    "        'buy_vol_5m:0.65/vol_5m:2/timeframe:4320/vlty:1': {\n",
    "            'riskmanagement_conf': {\n",
    "                'golden_zone': 0.2,\n",
    "                'step': 0.2\n",
    "            }\n",
    "        }\n",
    "    },\n",
    "    '2' : {\n",
    "        'buy_vol_5m:0.65/vol_5m:2/timeframe:4320/vlty:1': {\n",
    "            'riskmanagement_conf': {\n",
    "                'golden_zone': 0.2,\n",
    "                'step': 0.2\n",
    "            }\n",
    "        }\n",
    "    },\n",
    "    '3' : {\n",
    "        'buy_vol_5m:0.65/vol_5m:2/timeframe:4320/vlty:1': {\n",
    "            'riskmanagement_conf': {\n",
    "                'golden_zone': 0.2,\n",
    "                'step': 0.2\n",
    "            }\n",
    "        }\n",
    "    },\n",
    "    '4' : {\n",
    "        'buy_vol_5m:0.65/vol_5m:2/timeframe:4320/vlty:1': {\n",
    "            'riskmanagement_conf': {\n",
    "                'golden_zone': 0.2,\n",
    "                'step': 0.2\n",
    "            }\n",
    "        }\n",
    "    }\n",
    "}\n",
    "\n",
    "#json_conf = json.dumps(trading_configuration)\n",
    "file_path = \"/Users/albertorainieri/Projects/Personal/tracker/trading/trading_configuration.json\"\n",
    "with open(file_path, 'w') as file:\n",
    "    json.dump(trading_configuration, file)\n",
    "\n",
    "\n",
    "\n"
   ]
  },
  {
   "cell_type": "code",
   "execution_count": 22,
   "metadata": {},
   "outputs": [
    {
     "data": {
      "text/plain": [
       "dict_keys(['data', 'start_next_analysis'])"
      ]
     },
     "execution_count": 22,
     "metadata": {},
     "output_type": "execute_result"
    }
   ],
   "source": [
    "import json, os\n",
    "ROOT_PATH = os.getcwd()\n",
    "file_path = ROOT_PATH + '/analysis_json/analysis.json'\n",
    "\n",
    "with open(file_path, 'r') as file:\n",
    "    # Retrieve shared memory for JSON data and \"start_interval\"\n",
    "    analysis_json = json.load(file)\n",
    "\n",
    "analysis_json.keys()\n"
   ]
  },
  {
   "cell_type": "code",
   "execution_count": 23,
   "metadata": {},
   "outputs": [
    {
     "data": {
      "text/plain": [
       "'2023-08-20T07:30:02.392040'"
      ]
     },
     "execution_count": 23,
     "metadata": {},
     "output_type": "execute_result"
    }
   ],
   "source": [
    "analysis_json['start_next_analysis']"
   ]
  },
  {
   "cell_type": "code",
   "execution_count": 8,
   "metadata": {},
   "outputs": [],
   "source": [
    "from datetime import datetime\n",
    "analysis_json['start_next_analysis_integration'] = datetime(2023,5,11).isoformat()"
   ]
  },
  {
   "cell_type": "code",
   "execution_count": 13,
   "metadata": {},
   "outputs": [
    {
     "data": {
      "text/plain": [
       "'2023-05-11T00:00:00'"
      ]
     },
     "execution_count": 13,
     "metadata": {},
     "output_type": "execute_result"
    }
   ],
   "source": [
    "analysis_json['start_next_analysis_integration']"
   ]
  },
  {
   "cell_type": "code",
   "execution_count": 26,
   "metadata": {},
   "outputs": [
    {
     "data": {
      "text/plain": [
       "CompletedProcess(args=['zip', '-q', '-r', '/Users/albertorainieri/Projects/Personal/analysis/json_old.zip', '/Users/albertorainieri/Projects/Personal/analysis/json_old'], returncode=0)"
      ]
     },
     "execution_count": 26,
     "metadata": {},
     "output_type": "execute_result"
    }
   ],
   "source": [
    "import subprocess\n",
    "\n",
    "# Zip a folder\n",
    "subprocess.run([\"zip\", \"-q\", \"-r\", \"/Users/albertorainieri/Projects/Personal/analysis/json_old.zip\", \"/Users/albertorainieri/Projects/Personal/analysis/json_old\"])"
   ]
  },
  {
   "cell_type": "code",
   "execution_count": 24,
   "metadata": {},
   "outputs": [
    {
     "name": "stdout",
     "output_type": "stream",
     "text": [
      "Number of keys in analysis_json before deletion: 40013\n",
      "Number of keys deleted 0\n",
      "Number of keys in analysis_json after deletion: 40013\n"
     ]
    }
   ],
   "source": [
    "from Functions import getsubstring_fromkey\n",
    "n_keys_start = len(analysis_json['data'])\n",
    "print(f'Number of keys in analysis_json before deletion: {n_keys_start}')\n",
    "new_analysis_json = {'data': {}, 'start_next_analysis': analysis_json['start_next_analysis']}\n",
    "n_keys_deleted = 0\n",
    "keys_deleted = []\n",
    "\n",
    "for key in analysis_json['data']:\n",
    "    vol, vol_value, buy_vol, buy_vol_value, timeframe = getsubstring_fromkey(key)\n",
    "    if vol_value == '4':\n",
    "        n_keys_deleted += 1\n",
    "        keys_deleted.append(key)\n",
    "    else:\n",
    "        new_analysis_json['data'][key] = analysis_json['data'][key]\n",
    "\n",
    "n_keys_end = len(new_analysis_json['data'])\n",
    "print(f'Number of keys deleted {n_keys_deleted}')\n",
    "print(f'Number of keys in analysis_json after deletion: {n_keys_end}')\n",
    "\n",
    "\n"
   ]
  },
  {
   "cell_type": "code",
   "execution_count": 20,
   "metadata": {},
   "outputs": [
    {
     "data": {
      "text/plain": [
       "'buy_vol_5m:0.65/vol_5m:4/timeframe:180/vlty:1'"
      ]
     },
     "execution_count": 20,
     "metadata": {},
     "output_type": "execute_result"
    }
   ],
   "source": [
    "keys_deleted[2]"
   ]
  },
  {
   "cell_type": "code",
   "execution_count": 21,
   "metadata": {},
   "outputs": [],
   "source": [
    "json_string = json.dumps(new_analysis_json)\n",
    "new_filepath = '/Users/albertorainieri/Projects/Personal/analysis/analysis_json/analysis.json'\n",
    "with open(new_filepath, 'w') as outfile:\n",
    "    outfile.write(json_string)"
   ]
  },
  {
   "cell_type": "code",
   "execution_count": 8,
   "metadata": {},
   "outputs": [
    {
     "data": {
      "text/plain": [
       "'buy_vol_5m:0.65/vol_5m:4/timeframe:15/vlty:1'"
      ]
     },
     "execution_count": 8,
     "metadata": {},
     "output_type": "execute_result"
    }
   ],
   "source": [
    "list(analysis_json['data'].keys())[0]"
   ]
  },
  {
   "cell_type": "code",
   "execution_count": 7,
   "metadata": {},
   "outputs": [
    {
     "data": {
      "text/plain": [
       "'2023-08-05T16:10:02.803580'"
      ]
     },
     "execution_count": 7,
     "metadata": {},
     "output_type": "execute_result"
    }
   ],
   "source": [
    "analysis_json['start_next_analysis']"
   ]
  },
  {
   "cell_type": "code",
   "execution_count": 5,
   "metadata": {},
   "outputs": [
    {
     "data": {
      "text/plain": [
       "[{'event': '2023-05-17T16:53:02.566375', 'mean': -0.0026, 'std': 0.0088}]"
      ]
     },
     "execution_count": 5,
     "metadata": {},
     "output_type": "execute_result"
    }
   ],
   "source": [
    "analysis_json['data']['buy_vol_15m:0.65/vol_15m:12/timeframe:1440/vlty:1']['info']['LTCUSDT']"
   ]
  },
  {
   "cell_type": "code",
   "execution_count": 5,
   "metadata": {},
   "outputs": [
    {
     "data": {
      "text/plain": [
       "{'event': '2023-05-12T04:03:01.604637', 'mean': 0.0015, 'std': 0.0006}"
      ]
     },
     "execution_count": 5,
     "metadata": {},
     "output_type": "execute_result"
    }
   ],
   "source": [
    "analysis_json['data']['buy_vol_5m:0.65/vol_5m:4/timeframe:15/vlty:1']['info']['BTCUSDT'][0]"
   ]
  },
  {
   "cell_type": "code",
   "execution_count": 2,
   "metadata": {},
   "outputs": [
    {
     "name": "stdout",
     "output_type": "stream",
     "text": [
      "1330823\n"
     ]
    }
   ],
   "source": [
    "n_events = 0\n",
    "for key in analysis_json['data']:\n",
    "    for coin in analysis_json['data'][key]['info']:\n",
    "        n_events += len(analysis_json['data'][key]['info'][coin])\n",
    "\n",
    "print(n_events)"
   ]
  },
  {
   "cell_type": "code",
   "execution_count": 6,
   "metadata": {},
   "outputs": [
    {
     "name": "stdout",
     "output_type": "stream",
     "text": [
      "['start_next_analysis', 'data']\n"
     ]
    },
    {
     "data": {
      "text/plain": [
       "dict_keys(['info'])"
      ]
     },
     "execution_count": 6,
     "metadata": {},
     "output_type": "execute_result"
    }
   ],
   "source": [
    "print(list(analysis_json.keys()))\n",
    "analysis_json['data']['buy_vol_5m:0.65/vol_5m:4/timeframe:15/vlty:1'].keys()\n"
   ]
  },
  {
   "cell_type": "code",
   "execution_count": null,
   "metadata": {},
   "outputs": [],
   "source": [
    "new_dict = {'data': analysis_json['data'], 'start_next_analysis_1': analysis_json['start_next_analysis'], 'start_next_analysis_2': analysis_json['start_next_analysis']}\n",
    "json_string = json.dumps(analysis_json)\n",
    "new_filepath = '/Users/albertorainieri/Projects/Personal/analysis/analysis_json/analysis.json'\n",
    "with open(new_filepath, 'w') as outfile:\n",
    "    outfile.write(json_string)"
   ]
  },
  {
   "cell_type": "code",
   "execution_count": null,
   "metadata": {},
   "outputs": [],
   "source": [
    "print(analysis_json['start_next_analysis_1'])\n",
    "print(analysis_json['start_next_analysis_2'])\n"
   ]
  },
  {
   "cell_type": "code",
   "execution_count": null,
   "metadata": {},
   "outputs": [],
   "source": [
    "analysis_json['start_next_analysis_2'] = analysis_json['start_next_analysis']\n",
    "analysis_json['start_next_analysis_1'] = analysis_json['start_next_analysis']\n",
    "del analysis_json['start_next_analysis']\n",
    "analysis_json.keys()\n"
   ]
  },
  {
   "cell_type": "code",
   "execution_count": null,
   "metadata": {},
   "outputs": [],
   "source": [
    "json_string = json.dumps(analysis_json)\n",
    "with open(file_path, 'w') as outfile:\n",
    "    outfile.write(json_string)\n",
    "    "
   ]
  },
  {
   "cell_type": "code",
   "execution_count": null,
   "metadata": {},
   "outputs": [],
   "source": [
    "analysis_json['data']['buy_vol_5m:0.65/vol_5m:4/timeframe:15/vlty:1']['total_means']"
   ]
  },
  {
   "cell_type": "code",
   "execution_count": null,
   "metadata": {},
   "outputs": [],
   "source": [
    "from Functions import data_preparation, load_data\n",
    "from datetime import datetime\n",
    "start_interval = datetime(2023,6,16)\n",
    "end_interval = datetime(2023,6,20)\n",
    "filter_position = (0,50)\n",
    "n_processes = 6\n",
    "data, df, df_obj = load_data(start_interval=start_interval, end_interval=end_interval, filter_position=filter_position)\n",
    "\n",
    "data_arguments = data_preparation(data, n_processes = n_processes)"
   ]
  },
  {
   "cell_type": "code",
   "execution_count": null,
   "metadata": {},
   "outputs": [],
   "source": [
    "data_arguments[0].keys()"
   ]
  },
  {
   "cell_type": "code",
   "execution_count": null,
   "metadata": {},
   "outputs": [],
   "source": [
    "from Functions import load_data\n",
    "from datetime import datetime\n",
    "data, df, df_obj = load_data(start_interval=datetime(2023,6,6), end_interval=datetime(2023,6,9), filter_position=(0,20))\n"
   ]
  },
  {
   "cell_type": "code",
   "execution_count": null,
   "metadata": {},
   "outputs": [],
   "source": []
  }
 ],
 "metadata": {
  "kernelspec": {
   "display_name": "Python 3",
   "language": "python",
   "name": "python3"
  },
  "language_info": {
   "codemirror_mode": {
    "name": "ipython",
    "version": 3
   },
   "file_extension": ".py",
   "mimetype": "text/x-python",
   "name": "python",
   "nbconvert_exporter": "python",
   "pygments_lexer": "ipython3",
   "version": "3.9.6"
  },
  "orig_nbformat": 4
 },
 "nbformat": 4,
 "nbformat_minor": 2
}

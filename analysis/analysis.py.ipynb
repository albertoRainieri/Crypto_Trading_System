{
 "cells": [
  {
   "cell_type": "code",
   "execution_count": null,
   "id": "269ed514",
   "metadata": {},
   "outputs": [
    {
     "name": "stdout",
     "output_type": "stream",
     "text": [
      "first time\n"
     ]
    }
   ],
   "source": [
    "import requests\n",
    "import json\n",
    "from datetime import datetime, timezone\n",
    "import os\n",
    "from time import time\n",
    "\n",
    "t1 = time()\n",
    "if os.path.isfile('./json/data.json'):\n",
    "    # read file\n",
    "    \n",
    "    f = open ('./json/data.json', \"r\")\n",
    "    data = json.loads(f.read())\n",
    "            \n",
    "    datetime_start = data['datetime_creation']\n",
    "    ENDPOINT = 'http://localhost'\n",
    "    method = '/analysis/get-data'\n",
    "    parameter= '?datetime_start=' + datetime_start\n",
    "    url = ENDPOINT + method + parameter \n",
    "    response = requests.get(url)\n",
    "    new_data = response.json()\n",
    "    for instrument_name in new_data:\n",
    "        if instrument_name in data['data']:\n",
    "            for trade in new_data[instrument_name]:\n",
    "                data['data'][instrument_name].append(trade)\n",
    "        else:\n",
    "            print(f'new instrument_name: {instrument_name}')\n",
    "            data['data'][instrument_name] = []\n",
    "            for trade in new_data[instrument_name]:\n",
    "                data['data'][instrument_name].append(trade)\n",
    "    json_string = json.dumps(data)\n",
    "    with open('./json/data.json', 'w') as outfile:\n",
    "        outfile.write(json_string)\n",
    "        \n",
    "\n",
    "else:\n",
    "    print('first time')\n",
    "    ENDPOINT = 'http://localhost'\n",
    "    method = '/analysis/get-data'\n",
    "    url = ENDPOINT + method\n",
    "    datetime_now = datetime.now(timezone.utc).isoformat()\n",
    "    response = requests.get(url)\n",
    "    \n",
    "    data = response.json()\n",
    "    data = {'datetime_creation': datetime_now, 'data': data}\n",
    "    json_string = json.dumps(data)\n",
    "    with open('./json/data.json', 'w') as outfile:\n",
    "        outfile.write(json_string)\n",
    "    #data = response.json()\n",
    "    print(list(data.keys()))\n",
    "    \n",
    "t2 = time()\n",
    "t = t2-t1\n",
    "print(f'Time Spent: {t} ')"
   ]
  },
  {
   "cell_type": "code",
   "execution_count": 25,
   "id": "acdb5db5",
   "metadata": {},
   "outputs": [
    {
     "name": "stdout",
     "output_type": "stream",
     "text": [
      "[{'_id': '2023-03-31T16:06:05.109613', 'price_%_1d': None, 'price_%_6h': 0.0249, 'price_%_3h': 0.0141, 'price_%_1h': -0.0031, 'vol_5m': 1.19, 'vol_5m_std': 0.83, 'buy_vol_5m': 0.5, 'buy_vol_5m_std': 0.17, 'buy_trd_5m': 0.52, 'buy_trd_5m_std': 0.13, 'vol_15m': 0.97, 'vol_15m_std': 0.88, 'buy_vol_15m': 0.53, 'buy_vol_15m_std': 0.12, 'buy_trd_15m': 0.56, 'buy_trd_15m_std': 0.11, 'vol_30m': 1.06, 'vol_30m_std': 0.9, 'buy_vol_30m': 0.5, 'buy_vol_30m_std': 0.14, 'buy_trd_30m': 0.55, 'buy_trd_30m_std': 0.12, 'vol_60m': 1.45, 'vol_60m_std': 1.74, 'buy_vol_60m': 0.5, 'buy_vol_60m_std': 0.13, 'buy_trd_60m': 0.51, 'buy_trd_60m_std': 0.12, 'vol_24h': 1.19, 'vol_24h_std': 1.81, 'buy_vol_24h': 0.5, 'buy_vol_24h_std': 0.15, 'buy_trd_24h': 0.51, 'buy_trd_24h_std': 0.13}, {'_id': '2023-03-31T16:07:05.111729', 'price_%_1d': None, 'price_%_6h': 0.0243, 'price_%_3h': 0.012, 'price_%_1h': -0.0037, 'vol_5m': 0.94, 'vol_5m_std': 0.57, 'buy_vol_5m': 0.43, 'buy_vol_5m_std': 0.16, 'buy_trd_5m': 0.46, 'buy_trd_5m_std': 0.13, 'vol_15m': 0.98, 'vol_15m_std': 0.86, 'buy_vol_15m': 0.52, 'buy_vol_15m_std': 0.13, 'buy_trd_15m': 0.54, 'buy_trd_15m_std': 0.12, 'vol_30m': 1.04, 'vol_30m_std': 0.91, 'buy_vol_30m': 0.49, 'buy_vol_30m_std': 0.14, 'buy_trd_30m': 0.54, 'buy_trd_30m_std': 0.13, 'vol_60m': 1.45, 'vol_60m_std': 1.73, 'buy_vol_60m': 0.49, 'buy_vol_60m_std': 0.14, 'buy_trd_60m': 0.51, 'buy_trd_60m_std': 0.12, 'vol_24h': 1.19, 'vol_24h_std': 1.81, 'buy_vol_24h': 0.5, 'buy_vol_24h_std': 0.15, 'buy_trd_24h': 0.51, 'buy_trd_24h_std': 0.13}, {'_id': '2023-03-31T16:08:05.100769', 'price_%_1d': None, 'price_%_6h': 0.0241, 'price_%_3h': 0.0117, 'price_%_1h': -0.0038, 'vol_5m': 0.8, 'vol_5m_std': 0.19, 'buy_vol_5m': 0.49, 'buy_vol_5m_std': 0.15, 'buy_trd_5m': 0.48, 'buy_trd_5m_std': 0.12, 'vol_15m': 0.97, 'vol_15m_std': 0.83, 'buy_vol_15m': 0.52, 'buy_vol_15m_std': 0.13, 'buy_trd_15m': 0.54, 'buy_trd_15m_std': 0.12, 'vol_30m': 1.03, 'vol_30m_std': 0.91, 'buy_vol_30m': 0.5, 'buy_vol_30m_std': 0.14, 'buy_trd_30m': 0.55, 'buy_trd_30m_std': 0.12, 'vol_60m': 1.45, 'vol_60m_std': 1.74, 'buy_vol_60m': 0.49, 'buy_vol_60m_std': 0.14, 'buy_trd_60m': 0.51, 'buy_trd_60m_std': 0.12, 'vol_24h': 1.19, 'vol_24h_std': 1.81, 'buy_vol_24h': 0.5, 'buy_vol_24h_std': 0.15, 'buy_trd_24h': 0.51, 'buy_trd_24h_std': 0.13}]\n"
     ]
    }
   ],
   "source": [
    "\n",
    "print(data['data']['BTCUSDT'][-3:])"
   ]
  },
  {
   "cell_type": "code",
   "execution_count": null,
   "id": "6a63f151",
   "metadata": {},
   "outputs": [],
   "source": []
  },
  {
   "cell_type": "code",
   "execution_count": null,
   "id": "86731a3a",
   "metadata": {},
   "outputs": [],
   "source": []
  },
  {
   "cell_type": "code",
   "execution_count": null,
   "id": "2d1bdf4c",
   "metadata": {},
   "outputs": [],
   "source": []
  },
  {
   "cell_type": "code",
   "execution_count": null,
   "id": "566251b4",
   "metadata": {},
   "outputs": [],
   "source": []
  },
  {
   "cell_type": "code",
   "execution_count": null,
   "id": "48c5e048",
   "metadata": {},
   "outputs": [],
   "source": []
  }
 ],
 "metadata": {
  "kernelspec": {
   "display_name": "Python 3 (ipykernel)",
   "language": "python",
   "name": "python3"
  },
  "language_info": {
   "codemirror_mode": {
    "name": "ipython",
    "version": 3
   },
   "file_extension": ".py",
   "mimetype": "text/x-python",
   "name": "python",
   "nbconvert_exporter": "python",
   "pygments_lexer": "ipython3",
   "version": "3.10.6"
  },
  "vscode": {
   "interpreter": {
    "hash": "916dbcbb3f70747c44a77c7bcd40155683ae19c65e1c03b4aa3499c5328201f1"
   }
  }
 },
 "nbformat": 4,
 "nbformat_minor": 5
}

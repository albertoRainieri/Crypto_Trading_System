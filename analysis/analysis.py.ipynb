{
 "cells": [
  {
   "cell_type": "code",
   "execution_count": 3,
   "id": "269ed514",
   "metadata": {},
   "outputs": [
    {
     "name": "stdout",
     "output_type": "stream",
     "text": [
      "Making the request to http://localhost/analysis/get-data?datetime_start=2023-04-03T15:18:09.791959+00:00\n",
      "Starting Time: 2023-04-03 15:18:09\n",
      "Iterationg through new instrument is completed.\n",
      "No New Instrument\n",
      "18 new observations for Bitcoin and others not new\n",
      "new Json saved in /home/alberto/Docker/Trading/analysis/json/data.json\n",
      "Time Spent: 3.4761312007904053 \n"
     ]
    }
   ],
   "source": [
    "import os,sys\n",
    "sys.path.insert(0,'..')\n",
    "\n",
    "import requests\n",
    "import json\n",
    "from datetime import datetime, timezone\n",
    "import os\n",
    "from time import time\n",
    "from backend.constants.constants import ACCESS_TOKEN\n",
    "\n",
    "t1 = time()\n",
    "root_path = '/home/alberto/Docker/Trading/analysis'\n",
    "path_json = '/home/alberto/Docker/Trading/analysis/json/data.json'\n",
    "new_datetime_start = datetime.now(timezone.utc).isoformat()\n",
    "\n",
    "\n",
    "headers = {\n",
    "        \"accept\": \"application/json\",\n",
    "        \"Authorization\": f\"Bearer {ACCESS_TOKEN}\", \n",
    "        \"Content-Type\": \"application/json\"\n",
    "    }\n",
    "\n",
    "if os.path.isfile('./json/data.json'):\n",
    "    # read file\n",
    "    \n",
    "    f = open ('./json/data.json', \"r\")\n",
    "    data = json.loads(f.read())\n",
    "            \n",
    "    datetime_start = data['datetime_creation']\n",
    "    date_split = datetime_start.split('T')\n",
    "    date = date_split[0]\n",
    "    hour = date_split[1].split('.')[0]\n",
    "    ENDPOINT = 'http://localhost'\n",
    "    method = '/analysis/get-data'\n",
    "    parameter= '?datetime_start=' + datetime_start\n",
    "    url = ENDPOINT + method + parameter\n",
    "    print(f'Making the request to {url}')\n",
    "    response = requests.get(url, headers=headers)\n",
    "    new_instrument_data=0\n",
    "    if response.status_code == 200:\n",
    "        new_data = response.json()\n",
    "        print(f'Starting Time: {date} {hour}')\n",
    "        n_instrument_newdata = 0\n",
    "        n_observations = 0\n",
    "        for instrument_name in new_data:\n",
    "            if instrument_name in data['data']:\n",
    "                for trade in new_data[instrument_name]:\n",
    "                    data['data'][instrument_name].append(trade)\n",
    "            else:\n",
    "                print(f'new instrument_name: {instrument_name}')\n",
    "                new_instrument_data += 1\n",
    "                data['data'][instrument_name] = []\n",
    "                for trade in new_data[instrument_name]:\n",
    "                    data['data'][instrument_name].append(trade)\n",
    "\n",
    "        print(f'Iterationg through new instrument is completed.')\n",
    "        if new_instrument_data != 0:\n",
    "            print(f'{new_instrument_data} of the instrument fetched are NEW')\n",
    "        else:\n",
    "            print(\"No New Instrument\")\n",
    "        btc_obs = len(new_data['BTCUSDT'])\n",
    "        print(f'{btc_obs} new observations for Bitcoin and others not new')\n",
    "        \n",
    "        data['datetime_creation'] = new_datetime_start\n",
    "\n",
    "        json_string = json.dumps(data)\n",
    "        with open(path_json, 'w') as outfile:\n",
    "            outfile.write(json_string)\n",
    "        print(f'new Json saved in {path_json}')\n",
    "    else:\n",
    "        print(response.status_code)\n",
    "        \n",
    "\n",
    "else:\n",
    "    ENDPOINT = 'http://localhost'\n",
    "    method = '/analysis/get-data'\n",
    "    url = ENDPOINT + method\n",
    "    datetime_now = datetime.now(timezone.utc).isoformat()\n",
    "    print(f'Making the request to {url} for the first time')\n",
    "    response = requests.get(url, headers=headers)\n",
    "    \n",
    "    data = response.json()\n",
    "    n_instruments = len(data)\n",
    "    btc_obs = len(data['BTCUSDT'])\n",
    "    print(f'{n_instruments} Instruments have been retrieved from db')\n",
    "    print(f'{btc_obs} Observations retrieved for BTCUSDT and others')\n",
    "    \n",
    "    data = {'datetime_creation': datetime_now, 'data': data}\n",
    "    json_string = json.dumps(data)\n",
    "    with open(path_json, 'w') as outfile:\n",
    "        outfile.write(json_string)\n",
    "    print(f'new Json saved in {path_json}')\n",
    "    \n",
    "t2 = time()\n",
    "t = t2-t1\n",
    "print(f'Time Spent: {t} ')"
   ]
  },
  {
   "cell_type": "code",
   "execution_count": 4,
   "id": "acdb5db5",
   "metadata": {},
   "outputs": [
    {
     "name": "stdout",
     "output_type": "stream",
     "text": [
      "[{'_id': '2023-04-03T15:33:05.513772', 'price_%_1d': None, 'price_%_6h': -0.009, 'price_%_3h': -0.0022, 'price_%_1h': -0.0035, 'vol_5m': 0.42, 'vol_5m_std': 0.16, 'buy_vol_5m': 0.54, 'buy_vol_5m_std': 0.14, 'buy_trd_5m': 0.51, 'buy_trd_5m_std': 0.13, 'vol_15m': 0.51, 'vol_15m_std': 0.34, 'buy_vol_15m': 0.58, 'buy_vol_15m_std': 0.13, 'buy_trd_15m': 0.55, 'buy_trd_15m_std': 0.12, 'vol_30m': 0.6, 'vol_30m_std': 0.45, 'buy_vol_30m': 0.54, 'buy_vol_30m_std': 0.15, 'buy_trd_30m': 0.5, 'buy_trd_30m_std': 0.14, 'vol_60m': 0.99, 'vol_60m_std': 1.02, 'buy_vol_60m': 0.51, 'buy_vol_60m_std': 0.14, 'buy_trd_60m': 0.47, 'buy_trd_60m_std': 0.14, 'vol_24h': 0.78, 'vol_24h_std': 0.79, 'buy_vol_24h': 0.52, 'buy_vol_24h_std': 0.15, 'buy_trd_24h': 0.48, 'buy_trd_24h_std': 0.14}, {'_id': '2023-04-03T15:34:05.019209', 'price_%_1d': None, 'price_%_6h': -0.0087, 'price_%_3h': -0.0024, 'price_%_1h': -0.0035, 'vol_5m': 0.48, 'vol_5m_std': 0.33, 'buy_vol_5m': 0.57, 'buy_vol_5m_std': 0.12, 'buy_trd_5m': 0.54, 'buy_trd_5m_std': 0.13, 'vol_15m': 0.55, 'vol_15m_std': 0.37, 'buy_vol_15m': 0.58, 'buy_vol_15m_std': 0.13, 'buy_trd_15m': 0.55, 'buy_trd_15m_std': 0.12, 'vol_30m': 0.59, 'vol_30m_std': 0.44, 'buy_vol_30m': 0.54, 'buy_vol_30m_std': 0.15, 'buy_trd_30m': 0.5, 'buy_trd_30m_std': 0.14, 'vol_60m': 1.0, 'vol_60m_std': 1.02, 'buy_vol_60m': 0.51, 'buy_vol_60m_std': 0.14, 'buy_trd_60m': 0.47, 'buy_trd_60m_std': 0.14, 'vol_24h': 0.78, 'vol_24h_std': 0.79, 'buy_vol_24h': 0.52, 'buy_vol_24h_std': 0.15, 'buy_trd_24h': 0.48, 'buy_trd_24h_std': 0.14}, {'_id': '2023-04-03T15:34:05.976860', 'price_%_1d': None, 'price_%_6h': -0.0087, 'price_%_3h': -0.0024, 'price_%_1h': -0.0035, 'vol_5m': 0.48, 'vol_5m_std': 0.33, 'buy_vol_5m': 0.57, 'buy_vol_5m_std': 0.12, 'buy_trd_5m': 0.54, 'buy_trd_5m_std': 0.13, 'vol_15m': 0.55, 'vol_15m_std': 0.37, 'buy_vol_15m': 0.58, 'buy_vol_15m_std': 0.13, 'buy_trd_15m': 0.55, 'buy_trd_15m_std': 0.12, 'vol_30m': 0.59, 'vol_30m_std': 0.44, 'buy_vol_30m': 0.54, 'buy_vol_30m_std': 0.15, 'buy_trd_30m': 0.5, 'buy_trd_30m_std': 0.14, 'vol_60m': 1.0, 'vol_60m_std': 1.02, 'buy_vol_60m': 0.51, 'buy_vol_60m_std': 0.14, 'buy_trd_60m': 0.47, 'buy_trd_60m_std': 0.14, 'vol_24h': 0.78, 'vol_24h_std': 0.79, 'buy_vol_24h': 0.52, 'buy_vol_24h_std': 0.15, 'buy_trd_24h': 0.48, 'buy_trd_24h_std': 0.14}]\n"
     ]
    }
   ],
   "source": [
    "\n",
    "print(data['data']['BTCUSDT'][-3:])"
   ]
  },
  {
   "cell_type": "code",
   "execution_count": null,
   "id": "6a63f151",
   "metadata": {},
   "outputs": [],
   "source": []
  },
  {
   "cell_type": "code",
   "execution_count": null,
   "id": "86731a3a",
   "metadata": {},
   "outputs": [],
   "source": []
  },
  {
   "cell_type": "code",
   "execution_count": null,
   "id": "2d1bdf4c",
   "metadata": {},
   "outputs": [],
   "source": []
  },
  {
   "cell_type": "code",
   "execution_count": null,
   "id": "566251b4",
   "metadata": {},
   "outputs": [],
   "source": []
  },
  {
   "cell_type": "code",
   "execution_count": null,
   "id": "48c5e048",
   "metadata": {},
   "outputs": [],
   "source": []
  }
 ],
 "metadata": {
  "kernelspec": {
   "display_name": "Python 3 (ipykernel)",
   "language": "python",
   "name": "python3"
  },
  "language_info": {
   "codemirror_mode": {
    "name": "ipython",
    "version": 3
   },
   "file_extension": ".py",
   "mimetype": "text/x-python",
   "name": "python",
   "nbconvert_exporter": "python",
   "pygments_lexer": "ipython3",
   "version": "3.10.6"
  },
  "vscode": {
   "interpreter": {
    "hash": "916dbcbb3f70747c44a77c7bcd40155683ae19c65e1c03b4aa3499c5328201f1"
   }
  }
 },
 "nbformat": 4,
 "nbformat_minor": 5
}

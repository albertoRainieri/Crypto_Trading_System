{
 "cells": [
  {
   "cell_type": "code",
   "execution_count": null,
   "metadata": {},
   "outputs": [],
   "source": [
    "from TrackerUpdate import update_tracker_with_n_trades\n",
    "\n",
    "update_tracker_with_n_trades()"
   ]
  },
  {
   "cell_type": "code",
   "execution_count": null,
   "metadata": {},
   "outputs": [],
   "source": [
    "# LOAD DATA\n",
    "import json\n",
    "\n",
    "path = \"/Volumes/PortableSSD/Alberto/Trading/Json/json_tracker_update/data-2023-05-07-0-0-test-update.json\"\n",
    "\n",
    "with open(path, 'r') as f:\n",
    "    data = json.load(f)\n",
    "    data_market_coin = data['data']['BTCUSDT']\n",
    "\n",
    "print(data_market_coin[0])"
   ]
  },
  {
   "cell_type": "code",
   "execution_count": null,
   "metadata": {},
   "outputs": [],
   "source": [
    "from datetime import datetime\n",
    "for obs in data['data']['SHIBUSDT']:\n",
    "    if datetime.fromisoformat(obs['_id']).replace(second=0, microsecond=0) == datetime(2023,5,22,23,27):\n",
    "        print(data['data']['SHIBUSDT'].index(obs))\n",
    "    #print(obs['_id'])\n",
    "\n"
   ]
  },
  {
   "cell_type": "code",
   "execution_count": null,
   "metadata": {},
   "outputs": [],
   "source": [
    "data['data']['SHIBUSDT'][22491]"
   ]
  },
  {
   "cell_type": "code",
   "execution_count": null,
   "metadata": {},
   "outputs": [],
   "source": [
    "data['data']['SHIBUSDT'][77208]"
   ]
  },
  {
   "cell_type": "code",
   "execution_count": null,
   "metadata": {},
   "outputs": [],
   "source": [
    "import json\n",
    "from TrackerUpdate import sort_files_by_date\n",
    "import os\n",
    "import numpy as np\n",
    "\n",
    "USB_ROOT_DIRECTORY = \"/Volumes/PortableSSD/Alberto/Trading\"\n",
    "folder_tracker = f\"{USB_ROOT_DIRECTORY}/Json/json_tracker/\"\n",
    "files_tracker = sort_files_by_date(folder_tracker)\n",
    "\n",
    "\n",
    "\n",
    "for file_tracker in files_tracker[51:]:\n",
    "    new_file_tracker = file_tracker.split('.json')[0] + \"-test-update.json\"\n",
    "    new_file_tracker = new_file_tracker.replace(\"json_tracker\", \"json_tracker_update\")\n",
    "    #new_file_tracker2  = new_file_tracker.replace(\"test-update\", \"test-update-2\")\n",
    "    \n",
    "    print(' ')\n",
    "    with open(file_tracker, 'r') as f:\n",
    "        print(file_tracker)\n",
    "        tracker = json.load(f)\n",
    "\n",
    "    if os.path.exists(new_file_tracker):\n",
    "        with open(new_file_tracker, 'r') as f:\n",
    "            print(new_file_tracker)\n",
    "            tracker_update = json.load(f)\n",
    "    else:\n",
    "        print('NO More trakcer update files. Terminating..')\n",
    "        break\n",
    "\n",
    "    assert tracker.keys() == tracker_update.keys(), \"keys are not equal\"\n",
    "    assert tracker['datetime_creation'] == tracker_update[\"datetime_creation\"], \"datetime_creation are not equal\"\n",
    "    assert list(tracker[\"data\"].keys()) == list(tracker_update[\"data\"].keys()), \"coin are not equal\"\n",
    "    print(f'{tracker_update[\"data\"][\"BTCUSDT\"][0]}')\n",
    "    print(f'{tracker_update[\"data\"][\"HBARUSDT\"][0]}')\n",
    "\n",
    "    n_coins = len(list(tracker[\"data\"].keys()))\n",
    "    #print(f'there are {n_coins} coins')\n",
    "    for coin in tracker[\"data\"]:\n",
    "         len_tracker = len(tracker[\"data\"][coin])\n",
    "         len_tracker_update = len(tracker_update[\"data\"][coin])\n",
    "         if len_tracker != len_tracker_update:\n",
    "            print(f\"{coin}: {len_tracker} vs {len_tracker_update}\")\n",
    "\n",
    "    # i = 0\n",
    "    # SAVE = True\n",
    "    # for coin in tracker[\"data\"]:\n",
    "\n",
    "    #     i+=1\n",
    "    #     if coin not in list_obs:\n",
    "    #         list_obs[coin] = []\n",
    "        \n",
    "    #     change=False\n",
    "        \n",
    "    #     for obs in tracker_update[\"data\"][coin]:\n",
    "    #         if obs['_id'] not in list_obs[coin]:\n",
    "    #             list_obs[coin].append(obs['_id'])\n",
    "    #         else:\n",
    "    #             print(f\"{coin} deleting: {obs}\")\n",
    "    #             tracker_update[\"data\"][coin].remove(obs)\n",
    "        \n",
    "\n",
    "\n",
    "    #     n_obs_tracker = len(tracker[\"data\"][coin])\n",
    "    #     n_obs_tracker_update = len(tracker_update[\"data\"][coin])\n",
    "\n",
    "        \n",
    "    #     if n_obs_tracker != n_obs_tracker_update:\n",
    "    #         print(f\"{i}:{n_coins}: {coin} --> tracker: {n_obs_tracker}; tracker_update: {n_obs_tracker_update};\")\n",
    "    #         SAVE=False\n",
    " \n",
    "    \n",
    "    # if SAVE:\n",
    "    #     with open(new_file_tracker2, 'w') as f:\n",
    "    #         json.dump(tracker_update, f, separators=(\",\", \":\"))\n",
    "    # else:\n",
    "    #     print('NOT SAVING')\n",
    "        \n",
    "\n",
    "\n"
   ]
  },
  {
   "cell_type": "code",
   "execution_count": 1,
   "metadata": {},
   "outputs": [],
   "source": [
    "import json\n",
    "file = \"/Volumes/PortableSSD/Alberto/Trading/Json/json_tracker_update/data-2023-08-13-01-53-test-update.json\"\n",
    "file2 = \"/Volumes/PortableSSD/Alberto/Trading/Json/json_tracker_update/data-2023-08-13-01-53-test-update-2.json\"\n",
    "\n",
    "with open(file, 'r') as f:\n",
    "        dic = json.load(f)\n",
    "\n",
    "with open(file2, 'w') as f:\n",
    "    json.dump(dic, f, separators=(\",\", \":\"))"
   ]
  },
  {
   "cell_type": "code",
   "execution_count": 1,
   "metadata": {},
   "outputs": [
    {
     "name": "stderr",
     "output_type": "stream",
     "text": [
      "/Users/albertorainieri/Library/Python/3.9/lib/python/site-packages/urllib3/__init__.py:35: NotOpenSSLWarning: urllib3 v2 only supports OpenSSL 1.1.1+, currently the 'ssl' module is compiled with 'LibreSSL 2.8.3'. See: https://github.com/urllib3/urllib3/issues/3020\n",
      "  warnings.warn(\n"
     ]
    },
    {
     "name": "stdout",
     "output_type": "stream",
     "text": [
      "10.0\n",
      "8.5\n",
      "9.0\n",
      "15.4\n",
      "17.8\n",
      "14.7\n",
      "15.0\n",
      "13.0\n",
      "14.7\n",
      "21.6\n",
      "20.3\n",
      "22.8\n",
      "18.5\n",
      "36.0\n",
      "16.2\n",
      "33.4\n",
      "25.1\n",
      "14.8\n",
      "19.7\n",
      "16.5\n",
      "24.7\n",
      "15.0\n",
      "13.6\n",
      "14.5\n",
      "22.2\n",
      "35.8\n",
      "16.1\n",
      "16.3\n",
      "16.2\n",
      "15.3\n"
     ]
    },
    {
     "data": {
      "text/plain": [
       "18.4"
      ]
     },
     "execution_count": 1,
     "metadata": {},
     "output_type": "execute_result"
    }
   ],
   "source": [
    "from datetime import datetime\n",
    "import json\n",
    "from TrackerUpdate import get_dynamic_ntrades_benchmark\n",
    "ROOT_DIRECTORY = \"/Users/albertorainieri/Personal\"\n",
    "path_benchmark_new = f'{ROOT_DIRECTORY}/analysis/benchmark_json/benchmark-NEW.json'\n",
    "with open(path_benchmark_new, 'r') as file:\n",
    "        # Retrieve shared memory for JSON data and \"start_interval\"\n",
    "        benchmark_json = json.load(file)\n",
    "\n",
    "coin = 'SHIBUSDT'\n",
    "obs_id = '2023-05-22T23:27:02.790015'      \n",
    "get_dynamic_ntrades_benchmark(benchmark_json, coin, obs_id)\n"
   ]
  },
  {
   "cell_type": "code",
   "execution_count": null,
   "metadata": {},
   "outputs": [],
   "source": [
    "with open(\"/Volumes/PortableSSD/Alberto/Trading/Json/json_tracker_update/data-2023-07-06-00-01-test-update.json\", 'r') as f:\n",
    "        tracker = json.load(f)\n",
    "\n",
    "tracker[\"data\"][\"BTCUSDT\"].index({'_id': '2023-07-09T08:48:02.129029', 'price': 30300.0, 'price_%_1d': 0.0012, 'price_%_6h': 0.0002, 'price_%_3h': 0.0009, 'price_%_1h': 0.0016, 'vol_1m': 0.62, 'buy_vol_1m': 0.33, 'buy_trd_1m': 0.6, 'vol_5m': 0.31, 'vol_5m_std': 0.14, 'buy_vol_5m': 0.49, 'buy_trd_5m': 0.57, 'vol_15m': 0.34, 'vol_15m_std': 0.24, 'buy_vol_15m': 0.56, 'buy_trd_15m': 0.53, 'vol_30m': 0.24, 'vol_30m_std': 0.18, 'buy_vol_30m': 0.5, 'buy_trd_30m': 0.49, 'vol_60m': 0.25, 'vol_60m_std': 0.17, 'buy_vol_60m': 0.55, 'buy_trd_60m': 0.54, 'vol_3h': 0.27, 'vol_3h_std': 0.18, 'buy_vol_3h': 0.47, 'buy_trd_3h': 0.52, 'vol_6h': 0.27, 'vol_6h_std': 0.25, 'buy_vol_6h': 0.45, 'buy_trd_6h': 0.53, 'vol_24h': 0.31, 'vol_24h_std': 0.36, 'buy_vol_24h': 0.46, 'buy_trd_24h': 0.48, 'trades_1m': 0.6, 'trades_5m': 0.48, 'trades_15m': 0.47, 'trades_30m': 0.43, 'trades_60m': 0.46, 'trades_3h': 0.48, 'trades_6h': 0.45})"
   ]
  },
  {
   "cell_type": "code",
   "execution_count": null,
   "metadata": {},
   "outputs": [],
   "source": [
    "from TrackerUpdate import create_volume_standings\n",
    "\n",
    "create_volume_standings()"
   ]
  },
  {
   "cell_type": "code",
   "execution_count": null,
   "metadata": {},
   "outputs": [],
   "source": []
  }
 ],
 "metadata": {
  "kernelspec": {
   "display_name": "Python 3",
   "language": "python",
   "name": "python3"
  },
  "language_info": {
   "codemirror_mode": {
    "name": "ipython",
    "version": 3
   },
   "file_extension": ".py",
   "mimetype": "text/x-python",
   "name": "python",
   "nbconvert_exporter": "python",
   "pygments_lexer": "ipython3",
   "version": "3.9.6"
  }
 },
 "nbformat": 4,
 "nbformat_minor": 2
}
